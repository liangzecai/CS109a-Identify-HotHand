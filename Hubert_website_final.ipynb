{
 "cells": [
  {
   "cell_type": "markdown",
   "metadata": {},
   "source": [
    "### Conditional probability\n",
    "To answer if Hot Hand Theory is true or not based on our data, we first replicated the work that was done by Gilovich, Vallone and Tsersky (1985), looking at the conditional probability of making a hit after hit(s) or miss(es). Assumining shots were chosen randomly, the probability of making a hit after a hit streak should be higher than the probability of making a hit after a miss streak, if Hot Hand Theory is true.\n",
    "\n",
    "$$P(hit|hit(s)) > P(hit|miss(es))$$\n",
    "\n",
    "We selected the top 5 player for analysis because they scored high, played in more games within the season, and shot more per game. This allows more series and longer series per player for the analysis."
   ]
  },
  {
   "cell_type": "code",
   "execution_count": 8,
   "metadata": {
    "collapsed": false
   },
   "outputs": [
    {
     "data": {
      "text/html": [
       "<table border=\"1\" class=\"dataframe\">\n",
       "  <thead>\n",
       "    <tr style=\"text-align: right;\">\n",
       "      <th></th>\n",
       "      <th>player_name</th>\n",
       "      <th>P(hit|miss3)</th>\n",
       "      <th>P(hit|miss2)</th>\n",
       "      <th>P(hit|miss1)</th>\n",
       "      <th>P(hit)</th>\n",
       "      <th>P(hit|hit1)</th>\n",
       "      <th>P(hit|hit2)</th>\n",
       "      <th>P(hit|hit3)</th>\n",
       "    </tr>\n",
       "  </thead>\n",
       "  <tbody>\n",
       "    <tr>\n",
       "      <th>0</th>\n",
       "      <td>lebron james</td>\n",
       "      <td>0.481 (81)</td>\n",
       "      <td>0.554 (193)</td>\n",
       "      <td>0.527 (440)</td>\n",
       "      <td>0.497 (933)</td>\n",
       "      <td>0.471 (442)</td>\n",
       "      <td>0.445 (200)</td>\n",
       "      <td>0.430 (86)</td>\n",
       "    </tr>\n",
       "    <tr>\n",
       "      <th>0</th>\n",
       "      <td>stephen curry</td>\n",
       "      <td>0.521 (73)</td>\n",
       "      <td>0.548 (186)</td>\n",
       "      <td>0.536 (440)</td>\n",
       "      <td>0.495 (935)</td>\n",
       "      <td>0.452 (438)</td>\n",
       "      <td>0.434 (189)</td>\n",
       "      <td>0.385 (78)</td>\n",
       "    </tr>\n",
       "    <tr>\n",
       "      <th>0</th>\n",
       "      <td>russell westbrook</td>\n",
       "      <td>0.418 (134)</td>\n",
       "      <td>0.430 (251)</td>\n",
       "      <td>0.459 (495)</td>\n",
       "      <td>0.443 (937)</td>\n",
       "      <td>0.421 (397)</td>\n",
       "      <td>0.357 (157)</td>\n",
       "      <td>0.333 (51)</td>\n",
       "    </tr>\n",
       "    <tr>\n",
       "      <th>0</th>\n",
       "      <td>carmelo anthony</td>\n",
       "      <td>0.576 (85)</td>\n",
       "      <td>0.521 (190)</td>\n",
       "      <td>0.471 (384)</td>\n",
       "      <td>0.446 (737)</td>\n",
       "      <td>0.410 (315)</td>\n",
       "      <td>0.377 (122)</td>\n",
       "      <td>0.422 (45)</td>\n",
       "    </tr>\n",
       "    <tr>\n",
       "      <th>0</th>\n",
       "      <td>klay thompson</td>\n",
       "      <td>0.495 (107)</td>\n",
       "      <td>0.463 (227)</td>\n",
       "      <td>0.470 (470)</td>\n",
       "      <td>0.467 (947)</td>\n",
       "      <td>0.469 (420)</td>\n",
       "      <td>0.457 (186)</td>\n",
       "      <td>0.418 (79)</td>\n",
       "    </tr>\n",
       "  </tbody>\n",
       "</table>"
      ],
      "text/plain": [
       "<IPython.core.display.HTML object>"
      ]
     },
     "execution_count": 8,
     "metadata": {},
     "output_type": "execute_result"
    }
   ],
   "source": [
    "df1 = u'<table border=\"1\" class=\"dataframe\">\\n  <thead>\\n    <tr style=\"text-align: right;\">\\n      <th></th>\\n      <th>player_name</th>\\n      <th>P(hit|miss3)</th>\\n      <th>P(hit|miss2)</th>\\n      <th>P(hit|miss1)</th>\\n      <th>P(hit)</th>\\n      <th>P(hit|hit1)</th>\\n      <th>P(hit|hit2)</th>\\n      <th>P(hit|hit3)</th>\\n    </tr>\\n  </thead>\\n  <tbody>\\n    <tr>\\n      <th>0</th>\\n      <td>lebron james</td>\\n      <td>0.481 (81)</td>\\n      <td>0.554 (193)</td>\\n      <td>0.527 (440)</td>\\n      <td>0.497 (933)</td>\\n      <td>0.471 (442)</td>\\n      <td>0.445 (200)</td>\\n      <td>0.430 (86)</td>\\n    </tr>\\n    <tr>\\n      <th>0</th>\\n      <td>stephen curry</td>\\n      <td>0.521 (73)</td>\\n      <td>0.548 (186)</td>\\n      <td>0.536 (440)</td>\\n      <td>0.495 (935)</td>\\n      <td>0.452 (438)</td>\\n      <td>0.434 (189)</td>\\n      <td>0.385 (78)</td>\\n    </tr>\\n    <tr>\\n      <th>0</th>\\n      <td>russell westbrook</td>\\n      <td>0.418 (134)</td>\\n      <td>0.430 (251)</td>\\n      <td>0.459 (495)</td>\\n      <td>0.443 (937)</td>\\n      <td>0.421 (397)</td>\\n      <td>0.357 (157)</td>\\n      <td>0.333 (51)</td>\\n    </tr>\\n    <tr>\\n      <th>0</th>\\n      <td>carmelo anthony</td>\\n      <td>0.576 (85)</td>\\n      <td>0.521 (190)</td>\\n      <td>0.471 (384)</td>\\n      <td>0.446 (737)</td>\\n      <td>0.410 (315)</td>\\n      <td>0.377 (122)</td>\\n      <td>0.422 (45)</td>\\n    </tr>\\n    <tr>\\n      <th>0</th>\\n      <td>klay thompson</td>\\n      <td>0.495 (107)</td>\\n      <td>0.463 (227)</td>\\n      <td>0.470 (470)</td>\\n      <td>0.467 (947)</td>\\n      <td>0.469 (420)</td>\\n      <td>0.457 (186)</td>\\n      <td>0.418 (79)</td>\\n    </tr>\\n  </tbody>\\n</table>'\n",
    "\n",
    "from IPython.display import display, HTML\n",
    "HTML(df1)"
   ]
  },
  {
   "cell_type": "markdown",
   "metadata": {},
   "source": [
    "For all top 5 players, the probabilities of making a hit after a hit streak (length 1-3) were lower than making a hit after a miss streak (length 1-3). Therefore, we observed no sign of hot hand for these top 5 players.\n",
    "\n",
    "However, the connection between \"hot hand\" and a higher P(hit) conditioned on previous streak status is only true if each shot was chosen randomly from a pool of shots with varying difficulties. In real life, it is possible that as a player heats up, the defense gets tighter or the player starts making riskier shots as he feels more confident, both of which would mask the effect of \"hot-hand\". As a result, we consider modeling for the difficulty of each shot, and take the shot difficulty into account.\n",
    "\n",
    "To account for shot difficulty, we used a strategy similar to what was previously described in Bocskocsky, Ezekowitz, and Stein (2014). Here, a linear regression model was trained using predictors including location, player, defender, shot distance, denfer distance and some time variables, to predict the probability of each shot being made."
   ]
  },
  {
   "cell_type": "markdown",
   "metadata": {},
   "source": [
    "### Predict P(hit) to account for shot difficulty "
   ]
  },
  {
   "cell_type": "markdown",
   "metadata": {},
   "source": [
    "To visualize the predicted P(hit), we binned all shots whose values are within the same hundreth increment of the predicted P(hit). Then, the actual P(hit) was calculated based on the hit and miss statuses of all shots within the same bin. As the figure shows, the predicted P(hit) between 0.2 to 0.8 agrees really well with the acutal hit percentage. Since the majority of shots fall within this range, we believe the predicted P(hit) the mojority of our data is reliable."
   ]
  },
  {
   "cell_type": "markdown",
   "metadata": {},
   "source": [
    "<img src = \"Hubert_Fig1.png\">"
   ]
  },
  {
   "cell_type": "markdown",
   "metadata": {},
   "source": [
    "### Adjusted conditional probability\n",
    "The predicted P(hit) serves as a proxy for shot difficulty, which is used to calculate adjusted conditional probability. An analogy to how the adjusted probability is calculated is similar to correcting an unfair coin. For example, consider an unfair coin which shows head 30% of the time and tail 70% of the time. If for this coin, every time a head appears, I count it as 0.7 and if tail appears, 0.3, the adjusted expected value of getting a head or a tail would be around 0.5, as if the coin is fair.\n",
    "\n",
    "After shot difficulty correction, as expected, P(hit) of most players are around 0.5.\n",
    "\n",
    "However, most of the top 5 players still don't show hot hand based on these adjusted conditional probablities. Interesting, Klay Thompson, who recently scored 60 points within 29 minutes shows signs of hot hand when the probability is conditioned on one hit and two hits, in comparison with one miss and two misses. \n",
    "\n",
    "For future direction, we would like to explore more players and also collect for more data on players like Klay Thompson, as it is possible that Hot Hand is more porminent on certain players than others. We also need to figure out if the 1% difference of the conditioned P(hit) for Thompson is significant or not."
   ]
  },
  {
   "cell_type": "code",
   "execution_count": 9,
   "metadata": {
    "collapsed": false
   },
   "outputs": [
    {
     "data": {
      "text/html": [
       "<table border=\"1\" class=\"dataframe\">\n",
       "  <thead>\n",
       "    <tr style=\"text-align: right;\">\n",
       "      <th></th>\n",
       "      <th>player_name</th>\n",
       "      <th>P(hit|miss3)</th>\n",
       "      <th>P(hit|miss2)</th>\n",
       "      <th>P(hit|miss1)</th>\n",
       "      <th>P(hit)</th>\n",
       "      <th>P(hit|hit1)</th>\n",
       "      <th>P(hit|hit2)</th>\n",
       "      <th>P(hit|hit3)</th>\n",
       "    </tr>\n",
       "  </thead>\n",
       "  <tbody>\n",
       "    <tr>\n",
       "      <th>0</th>\n",
       "      <td>lebron james</td>\n",
       "      <td>0.500</td>\n",
       "      <td>0.562</td>\n",
       "      <td>0.532</td>\n",
       "      <td>0.507</td>\n",
       "      <td>0.490</td>\n",
       "      <td>0.472</td>\n",
       "      <td>0.430</td>\n",
       "    </tr>\n",
       "    <tr>\n",
       "      <th>0</th>\n",
       "      <td>stephen curry</td>\n",
       "      <td>0.553</td>\n",
       "      <td>0.556</td>\n",
       "      <td>0.540</td>\n",
       "      <td>0.501</td>\n",
       "      <td>0.459</td>\n",
       "      <td>0.452</td>\n",
       "      <td>0.395</td>\n",
       "    </tr>\n",
       "    <tr>\n",
       "      <th>0</th>\n",
       "      <td>russell westbrook</td>\n",
       "      <td>0.477</td>\n",
       "      <td>0.491</td>\n",
       "      <td>0.512</td>\n",
       "      <td>0.504</td>\n",
       "      <td>0.494</td>\n",
       "      <td>0.426</td>\n",
       "      <td>0.414</td>\n",
       "    </tr>\n",
       "    <tr>\n",
       "      <th>0</th>\n",
       "      <td>carmelo anthony</td>\n",
       "      <td>0.614</td>\n",
       "      <td>0.569</td>\n",
       "      <td>0.513</td>\n",
       "      <td>0.504</td>\n",
       "      <td>0.482</td>\n",
       "      <td>0.454</td>\n",
       "      <td>0.506</td>\n",
       "    </tr>\n",
       "    <tr>\n",
       "      <th>0</th>\n",
       "      <td>klay thompson</td>\n",
       "      <td>0.533</td>\n",
       "      <td>0.495</td>\n",
       "      <td>0.501</td>\n",
       "      <td>0.503</td>\n",
       "      <td>0.511</td>\n",
       "      <td>0.506</td>\n",
       "      <td>0.470</td>\n",
       "    </tr>\n",
       "  </tbody>\n",
       "</table>"
      ],
      "text/plain": [
       "<IPython.core.display.HTML object>"
      ]
     },
     "execution_count": 9,
     "metadata": {},
     "output_type": "execute_result"
    }
   ],
   "source": [
    "df2 = u'<table border=\"1\" class=\"dataframe\">\\n  <thead>\\n    <tr style=\"text-align: right;\">\\n      <th></th>\\n      <th>player_name</th>\\n      <th>P(hit|miss3)</th>\\n      <th>P(hit|miss2)</th>\\n      <th>P(hit|miss1)</th>\\n      <th>P(hit)</th>\\n      <th>P(hit|hit1)</th>\\n      <th>P(hit|hit2)</th>\\n      <th>P(hit|hit3)</th>\\n    </tr>\\n  </thead>\\n  <tbody>\\n    <tr>\\n      <th>0</th>\\n      <td>lebron james</td>\\n      <td>0.500</td>\\n      <td>0.562</td>\\n      <td>0.532</td>\\n      <td>0.507</td>\\n      <td>0.490</td>\\n      <td>0.472</td>\\n      <td>0.430</td>\\n    </tr>\\n    <tr>\\n      <th>0</th>\\n      <td>stephen curry</td>\\n      <td>0.553</td>\\n      <td>0.556</td>\\n      <td>0.540</td>\\n      <td>0.501</td>\\n      <td>0.459</td>\\n      <td>0.452</td>\\n      <td>0.395</td>\\n    </tr>\\n    <tr>\\n      <th>0</th>\\n      <td>russell westbrook</td>\\n      <td>0.477</td>\\n      <td>0.491</td>\\n      <td>0.512</td>\\n      <td>0.504</td>\\n      <td>0.494</td>\\n      <td>0.426</td>\\n      <td>0.414</td>\\n    </tr>\\n    <tr>\\n      <th>0</th>\\n      <td>carmelo anthony</td>\\n      <td>0.614</td>\\n      <td>0.569</td>\\n      <td>0.513</td>\\n      <td>0.504</td>\\n      <td>0.482</td>\\n      <td>0.454</td>\\n      <td>0.506</td>\\n    </tr>\\n    <tr>\\n      <th>0</th>\\n      <td>klay thompson</td>\\n      <td>0.533</td>\\n      <td>0.495</td>\\n      <td>0.501</td>\\n      <td>0.503</td>\\n      <td>0.511</td>\\n      <td>0.506</td>\\n      <td>0.470</td>\\n    </tr>\\n  </tbody>\\n</table>'\n",
    "HTML(df2)"
   ]
  },
  {
   "cell_type": "code",
   "execution_count": null,
   "metadata": {
    "collapsed": true
   },
   "outputs": [],
   "source": []
  }
 ],
 "metadata": {
  "anaconda-cloud": {},
  "kernelspec": {
   "display_name": "Python [Root]",
   "language": "python",
   "name": "Python [Root]"
  },
  "language_info": {
   "codemirror_mode": {
    "name": "ipython",
    "version": 2
   },
   "file_extension": ".py",
   "mimetype": "text/x-python",
   "name": "python",
   "nbconvert_exporter": "python",
   "pygments_lexer": "ipython2",
   "version": "2.7.12"
  }
 },
 "nbformat": 4,
 "nbformat_minor": 0
}
